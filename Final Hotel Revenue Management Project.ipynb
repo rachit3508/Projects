{
 "cells": [
  {
   "cell_type": "markdown",
   "metadata": {},
   "source": [
    "#### Importing the libraries"
   ]
  },
  {
   "cell_type": "code",
   "execution_count": 217,
   "metadata": {},
   "outputs": [],
   "source": [
    "import numpy as np\n",
    "import pandas as pd\n",
    "import seaborn as sb\n",
    "import matplotlib.pyplot as plt\n",
    "from sklearn.ensemble import RandomForestClassifier\n",
    "from sklearn.impute import SimpleImputer\n",
    "from sklearn.preprocessing import LabelEncoder\n",
    "from sklearn.preprocessing import OneHotEncoder\n",
    "from sklearn.preprocessing import StandardScaler\n",
    "from sklearn.model_selection import train_test_split\n",
    "\n",
    "import warnings\n",
    "warnings.filterwarnings('ignore')"
   ]
  },
  {
   "cell_type": "markdown",
   "metadata": {},
   "source": [
    "#### Get the data"
   ]
  },
  {
   "cell_type": "code",
   "execution_count": 164,
   "metadata": {},
   "outputs": [],
   "source": [
    "df = pd.read_csv('hotel_bookings.csv')"
   ]
  },
  {
   "cell_type": "code",
   "execution_count": 165,
   "metadata": {},
   "outputs": [
    {
     "data": {
      "text/plain": [
       "(119390, 33)"
      ]
     },
     "execution_count": 165,
     "metadata": {},
     "output_type": "execute_result"
    }
   ],
   "source": [
    "df.shape"
   ]
  },
  {
   "cell_type": "code",
   "execution_count": 166,
   "metadata": {},
   "outputs": [
    {
     "data": {
      "text/html": [
       "<div>\n",
       "<style scoped>\n",
       "    .dataframe tbody tr th:only-of-type {\n",
       "        vertical-align: middle;\n",
       "    }\n",
       "\n",
       "    .dataframe tbody tr th {\n",
       "        vertical-align: top;\n",
       "    }\n",
       "\n",
       "    .dataframe thead th {\n",
       "        text-align: right;\n",
       "    }\n",
       "</style>\n",
       "<table border=\"1\" class=\"dataframe\">\n",
       "  <thead>\n",
       "    <tr style=\"text-align: right;\">\n",
       "      <th></th>\n",
       "      <th>hotel</th>\n",
       "      <th>is_canceled</th>\n",
       "      <th>lead_time</th>\n",
       "      <th>arrival_month_year</th>\n",
       "      <th>arrival_date_year</th>\n",
       "      <th>arrival_date_month</th>\n",
       "      <th>arrival_date_week_number</th>\n",
       "      <th>arrival_date_day_of_month</th>\n",
       "      <th>stays_in_weekend_nights</th>\n",
       "      <th>stays_in_week_nights</th>\n",
       "      <th>...</th>\n",
       "      <th>deposit_type</th>\n",
       "      <th>agent</th>\n",
       "      <th>company</th>\n",
       "      <th>days_in_waiting_list</th>\n",
       "      <th>customer_type</th>\n",
       "      <th>adr</th>\n",
       "      <th>required_car_parking_spaces</th>\n",
       "      <th>total_of_special_requests</th>\n",
       "      <th>reservation_status</th>\n",
       "      <th>reservation_status_date</th>\n",
       "    </tr>\n",
       "  </thead>\n",
       "  <tbody>\n",
       "    <tr>\n",
       "      <th>0</th>\n",
       "      <td>Resort Hotel</td>\n",
       "      <td>0</td>\n",
       "      <td>342</td>\n",
       "      <td>July 2015</td>\n",
       "      <td>2015</td>\n",
       "      <td>July</td>\n",
       "      <td>27</td>\n",
       "      <td>1</td>\n",
       "      <td>0</td>\n",
       "      <td>0</td>\n",
       "      <td>...</td>\n",
       "      <td>No Deposit</td>\n",
       "      <td>NaN</td>\n",
       "      <td>NaN</td>\n",
       "      <td>0</td>\n",
       "      <td>Transient</td>\n",
       "      <td>0.0</td>\n",
       "      <td>0</td>\n",
       "      <td>0</td>\n",
       "      <td>Check-Out</td>\n",
       "      <td>01-07-2015</td>\n",
       "    </tr>\n",
       "    <tr>\n",
       "      <th>1</th>\n",
       "      <td>Resort Hotel</td>\n",
       "      <td>0</td>\n",
       "      <td>737</td>\n",
       "      <td>July 2015</td>\n",
       "      <td>2015</td>\n",
       "      <td>July</td>\n",
       "      <td>27</td>\n",
       "      <td>1</td>\n",
       "      <td>0</td>\n",
       "      <td>0</td>\n",
       "      <td>...</td>\n",
       "      <td>No Deposit</td>\n",
       "      <td>NaN</td>\n",
       "      <td>NaN</td>\n",
       "      <td>0</td>\n",
       "      <td>Transient</td>\n",
       "      <td>0.0</td>\n",
       "      <td>0</td>\n",
       "      <td>0</td>\n",
       "      <td>Check-Out</td>\n",
       "      <td>01-07-2015</td>\n",
       "    </tr>\n",
       "    <tr>\n",
       "      <th>2</th>\n",
       "      <td>Resort Hotel</td>\n",
       "      <td>0</td>\n",
       "      <td>7</td>\n",
       "      <td>July 2015</td>\n",
       "      <td>2015</td>\n",
       "      <td>July</td>\n",
       "      <td>27</td>\n",
       "      <td>1</td>\n",
       "      <td>0</td>\n",
       "      <td>1</td>\n",
       "      <td>...</td>\n",
       "      <td>No Deposit</td>\n",
       "      <td>NaN</td>\n",
       "      <td>NaN</td>\n",
       "      <td>0</td>\n",
       "      <td>Transient</td>\n",
       "      <td>75.0</td>\n",
       "      <td>0</td>\n",
       "      <td>0</td>\n",
       "      <td>Check-Out</td>\n",
       "      <td>02-07-2015</td>\n",
       "    </tr>\n",
       "    <tr>\n",
       "      <th>3</th>\n",
       "      <td>Resort Hotel</td>\n",
       "      <td>0</td>\n",
       "      <td>13</td>\n",
       "      <td>July 2015</td>\n",
       "      <td>2015</td>\n",
       "      <td>July</td>\n",
       "      <td>27</td>\n",
       "      <td>1</td>\n",
       "      <td>0</td>\n",
       "      <td>1</td>\n",
       "      <td>...</td>\n",
       "      <td>No Deposit</td>\n",
       "      <td>304.0</td>\n",
       "      <td>NaN</td>\n",
       "      <td>0</td>\n",
       "      <td>Transient</td>\n",
       "      <td>75.0</td>\n",
       "      <td>0</td>\n",
       "      <td>0</td>\n",
       "      <td>Check-Out</td>\n",
       "      <td>02-07-2015</td>\n",
       "    </tr>\n",
       "    <tr>\n",
       "      <th>4</th>\n",
       "      <td>Resort Hotel</td>\n",
       "      <td>0</td>\n",
       "      <td>14</td>\n",
       "      <td>July 2015</td>\n",
       "      <td>2015</td>\n",
       "      <td>July</td>\n",
       "      <td>27</td>\n",
       "      <td>1</td>\n",
       "      <td>0</td>\n",
       "      <td>2</td>\n",
       "      <td>...</td>\n",
       "      <td>No Deposit</td>\n",
       "      <td>240.0</td>\n",
       "      <td>NaN</td>\n",
       "      <td>0</td>\n",
       "      <td>Transient</td>\n",
       "      <td>98.0</td>\n",
       "      <td>0</td>\n",
       "      <td>1</td>\n",
       "      <td>Check-Out</td>\n",
       "      <td>03-07-2015</td>\n",
       "    </tr>\n",
       "  </tbody>\n",
       "</table>\n",
       "<p>5 rows × 33 columns</p>\n",
       "</div>"
      ],
      "text/plain": [
       "          hotel  is_canceled  lead_time arrival_month_year  arrival_date_year  \\\n",
       "0  Resort Hotel            0        342          July 2015               2015   \n",
       "1  Resort Hotel            0        737          July 2015               2015   \n",
       "2  Resort Hotel            0          7          July 2015               2015   \n",
       "3  Resort Hotel            0         13          July 2015               2015   \n",
       "4  Resort Hotel            0         14          July 2015               2015   \n",
       "\n",
       "  arrival_date_month  arrival_date_week_number  arrival_date_day_of_month  \\\n",
       "0               July                        27                          1   \n",
       "1               July                        27                          1   \n",
       "2               July                        27                          1   \n",
       "3               July                        27                          1   \n",
       "4               July                        27                          1   \n",
       "\n",
       "   stays_in_weekend_nights  stays_in_week_nights  ...  deposit_type  agent  \\\n",
       "0                        0                     0  ...    No Deposit    NaN   \n",
       "1                        0                     0  ...    No Deposit    NaN   \n",
       "2                        0                     1  ...    No Deposit    NaN   \n",
       "3                        0                     1  ...    No Deposit  304.0   \n",
       "4                        0                     2  ...    No Deposit  240.0   \n",
       "\n",
       "   company days_in_waiting_list customer_type   adr  \\\n",
       "0      NaN                    0     Transient   0.0   \n",
       "1      NaN                    0     Transient   0.0   \n",
       "2      NaN                    0     Transient  75.0   \n",
       "3      NaN                    0     Transient  75.0   \n",
       "4      NaN                    0     Transient  98.0   \n",
       "\n",
       "  required_car_parking_spaces  total_of_special_requests  reservation_status  \\\n",
       "0                           0                          0           Check-Out   \n",
       "1                           0                          0           Check-Out   \n",
       "2                           0                          0           Check-Out   \n",
       "3                           0                          0           Check-Out   \n",
       "4                           0                          1           Check-Out   \n",
       "\n",
       "   reservation_status_date  \n",
       "0               01-07-2015  \n",
       "1               01-07-2015  \n",
       "2               02-07-2015  \n",
       "3               02-07-2015  \n",
       "4               03-07-2015  \n",
       "\n",
       "[5 rows x 33 columns]"
      ]
     },
     "execution_count": 166,
     "metadata": {},
     "output_type": "execute_result"
    }
   ],
   "source": [
    "df.head()"
   ]
  },
  {
   "cell_type": "code",
   "execution_count": 167,
   "metadata": {},
   "outputs": [
    {
     "name": "stdout",
     "output_type": "stream",
     "text": [
      "<class 'pandas.core.frame.DataFrame'>\n",
      "RangeIndex: 119390 entries, 0 to 119389\n",
      "Data columns (total 33 columns):\n",
      " #   Column                          Non-Null Count   Dtype  \n",
      "---  ------                          --------------   -----  \n",
      " 0   hotel                           119390 non-null  object \n",
      " 1   is_canceled                     119390 non-null  int64  \n",
      " 2   lead_time                       119390 non-null  int64  \n",
      " 3   arrival_month_year              119390 non-null  object \n",
      " 4   arrival_date_year               119390 non-null  int64  \n",
      " 5   arrival_date_month              119390 non-null  object \n",
      " 6   arrival_date_week_number        119390 non-null  int64  \n",
      " 7   arrival_date_day_of_month       119390 non-null  int64  \n",
      " 8   stays_in_weekend_nights         119390 non-null  int64  \n",
      " 9   stays_in_week_nights            119390 non-null  int64  \n",
      " 10  adults                          119390 non-null  int64  \n",
      " 11  children                        119386 non-null  float64\n",
      " 12  babies                          119390 non-null  int64  \n",
      " 13  meal                            119390 non-null  object \n",
      " 14  country                         118902 non-null  object \n",
      " 15  market_segment                  119390 non-null  object \n",
      " 16  distribution_channel            119390 non-null  object \n",
      " 17  is_repeated_guest               119390 non-null  int64  \n",
      " 18  previous_cancellations          119390 non-null  int64  \n",
      " 19  previous_bookings_not_canceled  119390 non-null  int64  \n",
      " 20  reserved_room_type              119390 non-null  object \n",
      " 21  assigned_room_type              119390 non-null  object \n",
      " 22  booking_changes                 119390 non-null  int64  \n",
      " 23  deposit_type                    119390 non-null  object \n",
      " 24  agent                           103050 non-null  float64\n",
      " 25  company                         6797 non-null    float64\n",
      " 26  days_in_waiting_list            119390 non-null  int64  \n",
      " 27  customer_type                   119390 non-null  object \n",
      " 28  adr                             119390 non-null  float64\n",
      " 29  required_car_parking_spaces     119390 non-null  int64  \n",
      " 30  total_of_special_requests       119390 non-null  int64  \n",
      " 31  reservation_status              119390 non-null  object \n",
      " 32  reservation_status_date         119390 non-null  object \n",
      "dtypes: float64(4), int64(16), object(13)\n",
      "memory usage: 30.1+ MB\n"
     ]
    }
   ],
   "source": [
    "df.info()"
   ]
  },
  {
   "cell_type": "markdown",
   "metadata": {},
   "source": [
    "#### Separating the features and target"
   ]
  },
  {
   "cell_type": "code",
   "execution_count": 168,
   "metadata": {},
   "outputs": [],
   "source": [
    "x = df.drop(['is_canceled'],axis=1)\n",
    "y = df[['is_canceled']]"
   ]
  },
  {
   "cell_type": "markdown",
   "metadata": {},
   "source": [
    "#### Checking cancellation rate and data imbalance"
   ]
  },
  {
   "cell_type": "code",
   "execution_count": 169,
   "metadata": {},
   "outputs": [
    {
     "data": {
      "text/plain": [
       "<AxesSubplot:xlabel='is_canceled', ylabel='count'>"
      ]
     },
     "execution_count": 169,
     "metadata": {},
     "output_type": "execute_result"
    },
    {
     "data": {
      "image/png": "[encoded data removed]",
      "text/plain": [
       "<Figure size 432x288 with 1 Axes>"
      ]
     },
     "metadata": {
      "needs_background": "light"
     },
     "output_type": "display_data"
    }
   ],
   "source": [
    "sb.countplot(x=y['is_canceled'])"
   ]
  },
  {
   "cell_type": "code",
   "execution_count": 170,
   "metadata": {},
   "outputs": [
    {
     "data": {
      "text/plain": [
       "37.041628277075134"
      ]
     },
     "execution_count": 170,
     "metadata": {},
     "output_type": "execute_result"
    }
   ],
   "source": [
    "y['is_canceled'].mean()*100"
   ]
  },
  {
   "cell_type": "markdown",
   "metadata": {},
   "source": [
    "#### Split the numerical and categorical features"
   ]
  },
  {
   "cell_type": "code",
   "execution_count": 171,
   "metadata": {},
   "outputs": [],
   "source": [
    "cat = x[x.columns[x.dtypes==object]]\n",
    "num = x[x.columns[x.dtypes!=object]]"
   ]
  },
  {
   "cell_type": "code",
   "execution_count": 172,
   "metadata": {},
   "outputs": [
    {
     "data": {
      "text/plain": [
       "(119390, 13)"
      ]
     },
     "execution_count": 172,
     "metadata": {},
     "output_type": "execute_result"
    }
   ],
   "source": [
    "cat.shape"
   ]
  },
  {
   "cell_type": "code",
   "execution_count": 173,
   "metadata": {},
   "outputs": [
    {
     "data": {
      "text/plain": [
       "(119390, 19)"
      ]
     },
     "execution_count": 173,
     "metadata": {},
     "output_type": "execute_result"
    }
   ],
   "source": [
    "num.shape"
   ]
  },
  {
   "cell_type": "code",
   "execution_count": 174,
   "metadata": {},
   "outputs": [
    {
     "name": "stdout",
     "output_type": "stream",
     "text": [
      "lead_time : 479\n",
      "arrival_date_year : 3\n",
      "arrival_date_week_number : 53\n",
      "arrival_date_day_of_month : 31\n",
      "stays_in_weekend_nights : 17\n",
      "stays_in_week_nights : 35\n",
      "adults : 14\n",
      "children : 5\n",
      "babies : 5\n",
      "is_repeated_guest : 2\n",
      "previous_cancellations : 15\n",
      "previous_bookings_not_canceled : 73\n",
      "booking_changes : 21\n",
      "agent : 333\n",
      "company : 352\n",
      "days_in_waiting_list : 128\n",
      "adr : 8879\n",
      "required_car_parking_spaces : 5\n",
      "total_of_special_requests : 6\n",
      "\n"
     ]
    }
   ],
   "source": [
    "num_as_cat=[]\n",
    "for col in num.columns:\n",
    "    if(num[col].nunique()<=20):\n",
    "        num_as_cat.append(col)\n",
    "    print(f\"{col} : {num[col].nunique()}\")\n",
    "print()"
   ]
  },
  {
   "cell_type": "code",
   "execution_count": 175,
   "metadata": {},
   "outputs": [],
   "source": [
    "num_as_cat = x[num_as_cat]"
   ]
  },
  {
   "cell_type": "code",
   "execution_count": 176,
   "metadata": {},
   "outputs": [],
   "source": [
    "for col in num_as_cat.columns:\n",
    "    num.drop([col],axis=1,inplace=True)"
   ]
  },
  {
   "cell_type": "code",
   "execution_count": 177,
   "metadata": {},
   "outputs": [
    {
     "data": {
      "text/plain": [
       "(119390, 10)"
      ]
     },
     "execution_count": 177,
     "metadata": {},
     "output_type": "execute_result"
    }
   ],
   "source": [
    "num.shape"
   ]
  },
  {
   "cell_type": "code",
   "execution_count": 178,
   "metadata": {},
   "outputs": [
    {
     "data": {
      "text/plain": [
       "(119390, 9)"
      ]
     },
     "execution_count": 178,
     "metadata": {},
     "output_type": "execute_result"
    }
   ],
   "source": [
    "num_as_cat.shape"
   ]
  },
  {
   "cell_type": "code",
   "execution_count": 179,
   "metadata": {},
   "outputs": [
    {
     "name": "stdout",
     "output_type": "stream",
     "text": [
      "hotel : 2\n",
      "arrival_month_year : 26\n",
      "arrival_date_month : 12\n",
      "meal : 5\n",
      "country : 177\n",
      "market_segment : 8\n",
      "distribution_channel : 5\n",
      "reserved_room_type : 10\n",
      "assigned_room_type : 12\n",
      "deposit_type : 3\n",
      "customer_type : 4\n",
      "reservation_status : 3\n",
      "reservation_status_date : 926\n"
     ]
    }
   ],
   "source": [
    "for col in cat.columns:\n",
    "    print(f\"{col} : {cat[col].nunique()}\")"
   ]
  },
  {
   "cell_type": "code",
   "execution_count": 180,
   "metadata": {},
   "outputs": [],
   "source": [
    "cat = pd.concat([cat,num_as_cat],axis=1)"
   ]
  },
  {
   "cell_type": "code",
   "execution_count": 181,
   "metadata": {},
   "outputs": [
    {
     "data": {
      "text/plain": [
       "(119390, 10)"
      ]
     },
     "execution_count": 181,
     "metadata": {},
     "output_type": "execute_result"
    }
   ],
   "source": [
    "num.shape"
   ]
  },
  {
   "cell_type": "code",
   "execution_count": 182,
   "metadata": {},
   "outputs": [
    {
     "data": {
      "text/plain": [
       "(119390, 22)"
      ]
     },
     "execution_count": 182,
     "metadata": {},
     "output_type": "execute_result"
    }
   ],
   "source": [
    "cat.shape"
   ]
  },
  {
   "cell_type": "markdown",
   "metadata": {},
   "source": [
    "#### Operations on Numerical data"
   ]
  },
  {
   "cell_type": "code",
   "execution_count": 183,
   "metadata": {},
   "outputs": [
    {
     "data": {
      "text/html": [
       "<div>\n",
       "<style scoped>\n",
       "    .dataframe tbody tr th:only-of-type {\n",
       "        vertical-align: middle;\n",
       "    }\n",
       "\n",
       "    .dataframe tbody tr th {\n",
       "        vertical-align: top;\n",
       "    }\n",
       "\n",
       "    .dataframe thead th {\n",
       "        text-align: right;\n",
       "    }\n",
       "</style>\n",
       "<table border=\"1\" class=\"dataframe\">\n",
       "  <thead>\n",
       "    <tr style=\"text-align: right;\">\n",
       "      <th></th>\n",
       "      <th>lead_time</th>\n",
       "      <th>arrival_date_week_number</th>\n",
       "      <th>arrival_date_day_of_month</th>\n",
       "      <th>stays_in_week_nights</th>\n",
       "      <th>previous_bookings_not_canceled</th>\n",
       "      <th>booking_changes</th>\n",
       "      <th>agent</th>\n",
       "      <th>company</th>\n",
       "      <th>days_in_waiting_list</th>\n",
       "      <th>adr</th>\n",
       "    </tr>\n",
       "  </thead>\n",
       "  <tbody>\n",
       "    <tr>\n",
       "      <th>count</th>\n",
       "      <td>119390.000000</td>\n",
       "      <td>119390.000000</td>\n",
       "      <td>119390.000000</td>\n",
       "      <td>119390.000000</td>\n",
       "      <td>119390.000000</td>\n",
       "      <td>119390.000000</td>\n",
       "      <td>103050.000000</td>\n",
       "      <td>6797.000000</td>\n",
       "      <td>119390.000000</td>\n",
       "      <td>119390.000000</td>\n",
       "    </tr>\n",
       "    <tr>\n",
       "      <th>mean</th>\n",
       "      <td>104.011416</td>\n",
       "      <td>27.165173</td>\n",
       "      <td>15.798241</td>\n",
       "      <td>2.500302</td>\n",
       "      <td>0.137097</td>\n",
       "      <td>0.221124</td>\n",
       "      <td>86.693382</td>\n",
       "      <td>189.266735</td>\n",
       "      <td>2.321149</td>\n",
       "      <td>101.831122</td>\n",
       "    </tr>\n",
       "    <tr>\n",
       "      <th>std</th>\n",
       "      <td>106.863097</td>\n",
       "      <td>13.605138</td>\n",
       "      <td>8.780829</td>\n",
       "      <td>1.908286</td>\n",
       "      <td>1.497437</td>\n",
       "      <td>0.652306</td>\n",
       "      <td>110.774548</td>\n",
       "      <td>131.655015</td>\n",
       "      <td>17.594721</td>\n",
       "      <td>50.535790</td>\n",
       "    </tr>\n",
       "    <tr>\n",
       "      <th>min</th>\n",
       "      <td>0.000000</td>\n",
       "      <td>1.000000</td>\n",
       "      <td>1.000000</td>\n",
       "      <td>0.000000</td>\n",
       "      <td>0.000000</td>\n",
       "      <td>0.000000</td>\n",
       "      <td>1.000000</td>\n",
       "      <td>6.000000</td>\n",
       "      <td>0.000000</td>\n",
       "      <td>-6.380000</td>\n",
       "    </tr>\n",
       "    <tr>\n",
       "      <th>25%</th>\n",
       "      <td>18.000000</td>\n",
       "      <td>16.000000</td>\n",
       "      <td>8.000000</td>\n",
       "      <td>1.000000</td>\n",
       "      <td>0.000000</td>\n",
       "      <td>0.000000</td>\n",
       "      <td>9.000000</td>\n",
       "      <td>62.000000</td>\n",
       "      <td>0.000000</td>\n",
       "      <td>69.290000</td>\n",
       "    </tr>\n",
       "    <tr>\n",
       "      <th>50%</th>\n",
       "      <td>69.000000</td>\n",
       "      <td>28.000000</td>\n",
       "      <td>16.000000</td>\n",
       "      <td>2.000000</td>\n",
       "      <td>0.000000</td>\n",
       "      <td>0.000000</td>\n",
       "      <td>14.000000</td>\n",
       "      <td>179.000000</td>\n",
       "      <td>0.000000</td>\n",
       "      <td>94.575000</td>\n",
       "    </tr>\n",
       "    <tr>\n",
       "      <th>75%</th>\n",
       "      <td>160.000000</td>\n",
       "      <td>38.000000</td>\n",
       "      <td>23.000000</td>\n",
       "      <td>3.000000</td>\n",
       "      <td>0.000000</td>\n",
       "      <td>0.000000</td>\n",
       "      <td>229.000000</td>\n",
       "      <td>270.000000</td>\n",
       "      <td>0.000000</td>\n",
       "      <td>126.000000</td>\n",
       "    </tr>\n",
       "    <tr>\n",
       "      <th>max</th>\n",
       "      <td>737.000000</td>\n",
       "      <td>53.000000</td>\n",
       "      <td>31.000000</td>\n",
       "      <td>50.000000</td>\n",
       "      <td>72.000000</td>\n",
       "      <td>21.000000</td>\n",
       "      <td>535.000000</td>\n",
       "      <td>543.000000</td>\n",
       "      <td>391.000000</td>\n",
       "      <td>5400.000000</td>\n",
       "    </tr>\n",
       "  </tbody>\n",
       "</table>\n",
       "</div>"
      ],
      "text/plain": [
       "           lead_time  arrival_date_week_number  arrival_date_day_of_month  \\\n",
       "count  119390.000000             119390.000000              119390.000000   \n",
       "mean      104.011416                 27.165173                  15.798241   \n",
       "std       106.863097                 13.605138                   8.780829   \n",
       "min         0.000000                  1.000000                   1.000000   \n",
       "25%        18.000000                 16.000000                   8.000000   \n",
       "50%        69.000000                 28.000000                  16.000000   \n",
       "75%       160.000000                 38.000000                  23.000000   \n",
       "max       737.000000                 53.000000                  31.000000   \n",
       "\n",
       "       stays_in_week_nights  previous_bookings_not_canceled  booking_changes  \\\n",
       "count         119390.000000                   119390.000000    119390.000000   \n",
       "mean               2.500302                        0.137097         0.221124   \n",
       "std                1.908286                        1.497437         0.652306   \n",
       "min                0.000000                        0.000000         0.000000   \n",
       "25%                1.000000                        0.000000         0.000000   \n",
       "50%                2.000000                        0.000000         0.000000   \n",
       "75%                3.000000                        0.000000         0.000000   \n",
       "max               50.000000                       72.000000        21.000000   \n",
       "\n",
       "               agent      company  days_in_waiting_list            adr  \n",
       "count  103050.000000  6797.000000         119390.000000  119390.000000  \n",
       "mean       86.693382   189.266735              2.321149     101.831122  \n",
       "std       110.774548   131.655015             17.594721      50.535790  \n",
       "min         1.000000     6.000000              0.000000      -6.380000  \n",
       "25%         9.000000    62.000000              0.000000      69.290000  \n",
       "50%        14.000000   179.000000              0.000000      94.575000  \n",
       "75%       229.000000   270.000000              0.000000     126.000000  \n",
       "max       535.000000   543.000000            391.000000    5400.000000  "
      ]
     },
     "execution_count": 183,
     "metadata": {},
     "output_type": "execute_result"
    }
   ],
   "source": [
    "num.describe()"
   ]
  },
  {
   "cell_type": "markdown",
   "metadata": {},
   "source": [
    "###### Checking Missing Values"
   ]
  },
  {
   "cell_type": "code",
   "execution_count": 184,
   "metadata": {},
   "outputs": [
    {
     "data": {
      "text/plain": [
       "lead_time                          0.000000\n",
       "arrival_date_week_number           0.000000\n",
       "arrival_date_day_of_month          0.000000\n",
       "stays_in_week_nights               0.000000\n",
       "previous_bookings_not_canceled     0.000000\n",
       "booking_changes                    0.000000\n",
       "agent                             13.686238\n",
       "company                           94.306893\n",
       "days_in_waiting_list               0.000000\n",
       "adr                                0.000000\n",
       "dtype: float64"
      ]
     },
     "execution_count": 184,
     "metadata": {},
     "output_type": "execute_result"
    }
   ],
   "source": [
    "num.isnull().sum()/len(num)*100"
   ]
  },
  {
   "cell_type": "markdown",
   "metadata": {},
   "source": [
    "###### Checking outliers"
   ]
  },
  {
   "cell_type": "code",
   "execution_count": 185,
   "metadata": {},
   "outputs": [
    {
     "data": {
      "image/png": "[encoded data removed]",
      "text/plain": [
       "<Figure size 2160x3600 with 10 Axes>"
      ]
     },
     "metadata": {
      "needs_background": "light"
     },
     "output_type": "display_data"
    }
   ],
   "source": [
    "plt.style.use('bmh')\n",
    "plt.figure(figsize=(30,50))\n",
    "for i in enumerate(num.columns):\n",
    "    plt.subplot(5,2,i[0]+1)\n",
    "    sb.boxplot(x=i[1],data=num)"
   ]
  },
  {
   "cell_type": "markdown",
   "metadata": {},
   "source": [
    "###### Handling Outliers"
   ]
  },
  {
   "cell_type": "code",
   "execution_count": 186,
   "metadata": {},
   "outputs": [],
   "source": [
    "def outlier(col):\n",
    "    Q1 = num[col].quantile(0.25)\n",
    "    Q3 = num[col].quantile(0.75)\n",
    "    IQR = Q3-Q1\n",
    "    LL = Q1-1.5*IQR\n",
    "    UL = Q3+1.5*IQR\n",
    "    num[col] = np.where((num[col]>UL),UL,\n",
    "                     np.where((num[col]<LL),LL,num[col]))"
   ]
  },
  {
   "cell_type": "code",
   "execution_count": 187,
   "metadata": {},
   "outputs": [],
   "source": [
    "for i in num.columns:\n",
    "    outlier(i)"
   ]
  },
  {
   "cell_type": "markdown",
   "metadata": {},
   "source": [
    "###### Remove Company Column as it has lot of missing values"
   ]
  },
  {
   "cell_type": "code",
   "execution_count": 188,
   "metadata": {},
   "outputs": [],
   "source": [
    "num.drop(['company'],axis=1,inplace=True)"
   ]
  },
  {
   "cell_type": "markdown",
   "metadata": {},
   "source": [
    "###### Handling missing values"
   ]
  },
  {
   "cell_type": "code",
   "execution_count": 189,
   "metadata": {},
   "outputs": [],
   "source": [
    "num['agent'] = num['agent'].fillna(num['agent'].mean())"
   ]
  },
  {
   "cell_type": "markdown",
   "metadata": {},
   "source": [
    "###### Feature selection"
   ]
  },
  {
   "cell_type": "code",
   "execution_count": 190,
   "metadata": {},
   "outputs": [
    {
     "data": {
      "text/plain": [
       "RandomForestClassifier()"
      ]
     },
     "execution_count": 190,
     "metadata": {},
     "output_type": "execute_result"
    }
   ],
   "source": [
    "rf = RandomForestClassifier()\n",
    "rf.fit(num,y)"
   ]
  },
  {
   "cell_type": "code",
   "execution_count": 191,
   "metadata": {},
   "outputs": [
    {
     "data": {
      "text/html": [
       "<div>\n",
       "<style scoped>\n",
       "    .dataframe tbody tr th:only-of-type {\n",
       "        vertical-align: middle;\n",
       "    }\n",
       "\n",
       "    .dataframe tbody tr th {\n",
       "        vertical-align: top;\n",
       "    }\n",
       "\n",
       "    .dataframe thead th {\n",
       "        text-align: right;\n",
       "    }\n",
       "</style>\n",
       "<table border=\"1\" class=\"dataframe\">\n",
       "  <thead>\n",
       "    <tr style=\"text-align: right;\">\n",
       "      <th></th>\n",
       "      <th>Features</th>\n",
       "      <th>Score</th>\n",
       "    </tr>\n",
       "  </thead>\n",
       "  <tbody>\n",
       "    <tr>\n",
       "      <th>0</th>\n",
       "      <td>lead_time</td>\n",
       "      <td>0.304212</td>\n",
       "    </tr>\n",
       "    <tr>\n",
       "      <th>8</th>\n",
       "      <td>adr</td>\n",
       "      <td>0.224424</td>\n",
       "    </tr>\n",
       "    <tr>\n",
       "      <th>6</th>\n",
       "      <td>agent</td>\n",
       "      <td>0.145945</td>\n",
       "    </tr>\n",
       "    <tr>\n",
       "      <th>2</th>\n",
       "      <td>arrival_date_day_of_month</td>\n",
       "      <td>0.135798</td>\n",
       "    </tr>\n",
       "    <tr>\n",
       "      <th>1</th>\n",
       "      <td>arrival_date_week_number</td>\n",
       "      <td>0.127511</td>\n",
       "    </tr>\n",
       "    <tr>\n",
       "      <th>3</th>\n",
       "      <td>stays_in_week_nights</td>\n",
       "      <td>0.062110</td>\n",
       "    </tr>\n",
       "    <tr>\n",
       "      <th>4</th>\n",
       "      <td>previous_bookings_not_canceled</td>\n",
       "      <td>0.000000</td>\n",
       "    </tr>\n",
       "    <tr>\n",
       "      <th>5</th>\n",
       "      <td>booking_changes</td>\n",
       "      <td>0.000000</td>\n",
       "    </tr>\n",
       "    <tr>\n",
       "      <th>7</th>\n",
       "      <td>days_in_waiting_list</td>\n",
       "      <td>0.000000</td>\n",
       "    </tr>\n",
       "  </tbody>\n",
       "</table>\n",
       "</div>"
      ],
      "text/plain": [
       "                         Features     Score\n",
       "0                       lead_time  0.304212\n",
       "8                             adr  0.224424\n",
       "6                           agent  0.145945\n",
       "2       arrival_date_day_of_month  0.135798\n",
       "1        arrival_date_week_number  0.127511\n",
       "3            stays_in_week_nights  0.062110\n",
       "4  previous_bookings_not_canceled  0.000000\n",
       "5                 booking_changes  0.000000\n",
       "7            days_in_waiting_list  0.000000"
      ]
     },
     "execution_count": 191,
     "metadata": {},
     "output_type": "execute_result"
    }
   ],
   "source": [
    "pd.DataFrame({\"Features\":num.columns,\"Score\":rf.feature_importances_}).sort_values(by='Score',ascending=False)"
   ]
  },
  {
   "cell_type": "code",
   "execution_count": 192,
   "metadata": {},
   "outputs": [],
   "source": [
    "num.drop(['previous_bookings_not_canceled','booking_changes','days_in_waiting_list'],axis=1,inplace=True)"
   ]
  },
  {
   "cell_type": "code",
   "execution_count": 193,
   "metadata": {},
   "outputs": [
    {
     "data": {
      "text/plain": [
       "(119390, 6)"
      ]
     },
     "execution_count": 193,
     "metadata": {},
     "output_type": "execute_result"
    }
   ],
   "source": [
    "num.shape"
   ]
  },
  {
   "cell_type": "markdown",
   "metadata": {},
   "source": [
    "#### Operations on categorical data"
   ]
  },
  {
   "cell_type": "code",
   "execution_count": 194,
   "metadata": {},
   "outputs": [
    {
     "data": {
      "text/html": [
       "<div>\n",
       "<style scoped>\n",
       "    .dataframe tbody tr th:only-of-type {\n",
       "        vertical-align: middle;\n",
       "    }\n",
       "\n",
       "    .dataframe tbody tr th {\n",
       "        vertical-align: top;\n",
       "    }\n",
       "\n",
       "    .dataframe thead th {\n",
       "        text-align: right;\n",
       "    }\n",
       "</style>\n",
       "<table border=\"1\" class=\"dataframe\">\n",
       "  <thead>\n",
       "    <tr style=\"text-align: right;\">\n",
       "      <th></th>\n",
       "      <th>hotel</th>\n",
       "      <th>arrival_month_year</th>\n",
       "      <th>arrival_date_month</th>\n",
       "      <th>meal</th>\n",
       "      <th>country</th>\n",
       "      <th>market_segment</th>\n",
       "      <th>distribution_channel</th>\n",
       "      <th>reserved_room_type</th>\n",
       "      <th>assigned_room_type</th>\n",
       "      <th>deposit_type</th>\n",
       "      <th>...</th>\n",
       "      <th>reservation_status_date</th>\n",
       "      <th>arrival_date_year</th>\n",
       "      <th>stays_in_weekend_nights</th>\n",
       "      <th>adults</th>\n",
       "      <th>children</th>\n",
       "      <th>babies</th>\n",
       "      <th>is_repeated_guest</th>\n",
       "      <th>previous_cancellations</th>\n",
       "      <th>required_car_parking_spaces</th>\n",
       "      <th>total_of_special_requests</th>\n",
       "    </tr>\n",
       "  </thead>\n",
       "  <tbody>\n",
       "    <tr>\n",
       "      <th>0</th>\n",
       "      <td>Resort Hotel</td>\n",
       "      <td>July 2015</td>\n",
       "      <td>July</td>\n",
       "      <td>BB</td>\n",
       "      <td>PRT</td>\n",
       "      <td>Direct</td>\n",
       "      <td>Direct</td>\n",
       "      <td>C</td>\n",
       "      <td>C</td>\n",
       "      <td>No Deposit</td>\n",
       "      <td>...</td>\n",
       "      <td>01-07-2015</td>\n",
       "      <td>2015</td>\n",
       "      <td>0</td>\n",
       "      <td>2</td>\n",
       "      <td>0.0</td>\n",
       "      <td>0</td>\n",
       "      <td>0</td>\n",
       "      <td>0</td>\n",
       "      <td>0</td>\n",
       "      <td>0</td>\n",
       "    </tr>\n",
       "    <tr>\n",
       "      <th>1</th>\n",
       "      <td>Resort Hotel</td>\n",
       "      <td>July 2015</td>\n",
       "      <td>July</td>\n",
       "      <td>BB</td>\n",
       "      <td>PRT</td>\n",
       "      <td>Direct</td>\n",
       "      <td>Direct</td>\n",
       "      <td>C</td>\n",
       "      <td>C</td>\n",
       "      <td>No Deposit</td>\n",
       "      <td>...</td>\n",
       "      <td>01-07-2015</td>\n",
       "      <td>2015</td>\n",
       "      <td>0</td>\n",
       "      <td>2</td>\n",
       "      <td>0.0</td>\n",
       "      <td>0</td>\n",
       "      <td>0</td>\n",
       "      <td>0</td>\n",
       "      <td>0</td>\n",
       "      <td>0</td>\n",
       "    </tr>\n",
       "    <tr>\n",
       "      <th>2</th>\n",
       "      <td>Resort Hotel</td>\n",
       "      <td>July 2015</td>\n",
       "      <td>July</td>\n",
       "      <td>BB</td>\n",
       "      <td>GBR</td>\n",
       "      <td>Direct</td>\n",
       "      <td>Direct</td>\n",
       "      <td>A</td>\n",
       "      <td>C</td>\n",
       "      <td>No Deposit</td>\n",
       "      <td>...</td>\n",
       "      <td>02-07-2015</td>\n",
       "      <td>2015</td>\n",
       "      <td>0</td>\n",
       "      <td>1</td>\n",
       "      <td>0.0</td>\n",
       "      <td>0</td>\n",
       "      <td>0</td>\n",
       "      <td>0</td>\n",
       "      <td>0</td>\n",
       "      <td>0</td>\n",
       "    </tr>\n",
       "    <tr>\n",
       "      <th>3</th>\n",
       "      <td>Resort Hotel</td>\n",
       "      <td>July 2015</td>\n",
       "      <td>July</td>\n",
       "      <td>BB</td>\n",
       "      <td>GBR</td>\n",
       "      <td>Corporate</td>\n",
       "      <td>Corporate</td>\n",
       "      <td>A</td>\n",
       "      <td>A</td>\n",
       "      <td>No Deposit</td>\n",
       "      <td>...</td>\n",
       "      <td>02-07-2015</td>\n",
       "      <td>2015</td>\n",
       "      <td>0</td>\n",
       "      <td>1</td>\n",
       "      <td>0.0</td>\n",
       "      <td>0</td>\n",
       "      <td>0</td>\n",
       "      <td>0</td>\n",
       "      <td>0</td>\n",
       "      <td>0</td>\n",
       "    </tr>\n",
       "    <tr>\n",
       "      <th>4</th>\n",
       "      <td>Resort Hotel</td>\n",
       "      <td>July 2015</td>\n",
       "      <td>July</td>\n",
       "      <td>BB</td>\n",
       "      <td>GBR</td>\n",
       "      <td>Online TA</td>\n",
       "      <td>TA/TO</td>\n",
       "      <td>A</td>\n",
       "      <td>A</td>\n",
       "      <td>No Deposit</td>\n",
       "      <td>...</td>\n",
       "      <td>03-07-2015</td>\n",
       "      <td>2015</td>\n",
       "      <td>0</td>\n",
       "      <td>2</td>\n",
       "      <td>0.0</td>\n",
       "      <td>0</td>\n",
       "      <td>0</td>\n",
       "      <td>0</td>\n",
       "      <td>0</td>\n",
       "      <td>1</td>\n",
       "    </tr>\n",
       "  </tbody>\n",
       "</table>\n",
       "<p>5 rows × 22 columns</p>\n",
       "</div>"
      ],
      "text/plain": [
       "          hotel arrival_month_year arrival_date_month meal country  \\\n",
       "0  Resort Hotel          July 2015               July   BB     PRT   \n",
       "1  Resort Hotel          July 2015               July   BB     PRT   \n",
       "2  Resort Hotel          July 2015               July   BB     GBR   \n",
       "3  Resort Hotel          July 2015               July   BB     GBR   \n",
       "4  Resort Hotel          July 2015               July   BB     GBR   \n",
       "\n",
       "  market_segment distribution_channel reserved_room_type assigned_room_type  \\\n",
       "0         Direct               Direct                  C                  C   \n",
       "1         Direct               Direct                  C                  C   \n",
       "2         Direct               Direct                  A                  C   \n",
       "3      Corporate            Corporate                  A                  A   \n",
       "4      Online TA                TA/TO                  A                  A   \n",
       "\n",
       "  deposit_type  ... reservation_status_date arrival_date_year  \\\n",
       "0   No Deposit  ...              01-07-2015              2015   \n",
       "1   No Deposit  ...              01-07-2015              2015   \n",
       "2   No Deposit  ...              02-07-2015              2015   \n",
       "3   No Deposit  ...              02-07-2015              2015   \n",
       "4   No Deposit  ...              03-07-2015              2015   \n",
       "\n",
       "  stays_in_weekend_nights  adults  children  babies  is_repeated_guest  \\\n",
       "0                       0       2       0.0       0                  0   \n",
       "1                       0       2       0.0       0                  0   \n",
       "2                       0       1       0.0       0                  0   \n",
       "3                       0       1       0.0       0                  0   \n",
       "4                       0       2       0.0       0                  0   \n",
       "\n",
       "   previous_cancellations  required_car_parking_spaces  \\\n",
       "0                       0                            0   \n",
       "1                       0                            0   \n",
       "2                       0                            0   \n",
       "3                       0                            0   \n",
       "4                       0                            0   \n",
       "\n",
       "   total_of_special_requests  \n",
       "0                          0  \n",
       "1                          0  \n",
       "2                          0  \n",
       "3                          0  \n",
       "4                          1  \n",
       "\n",
       "[5 rows x 22 columns]"
      ]
     },
     "execution_count": 194,
     "metadata": {},
     "output_type": "execute_result"
    }
   ],
   "source": [
    "cat.head()"
   ]
  },
  {
   "cell_type": "code",
   "execution_count": 195,
   "metadata": {},
   "outputs": [],
   "source": [
    "cat.drop(['arrival_month_year'],axis=1,inplace=True)"
   ]
  },
  {
   "cell_type": "markdown",
   "metadata": {},
   "source": [
    "###### Cat columns and their unique values"
   ]
  },
  {
   "cell_type": "code",
   "execution_count": 196,
   "metadata": {},
   "outputs": [
    {
     "name": "stdout",
     "output_type": "stream",
     "text": [
      "hotel : ['Resort Hotel' 'City Hotel']\n",
      "-----------------------------------------------------------------------------------------------------------\n",
      "arrival_date_month : ['July' 'August' 'September' 'October' 'November' 'December' 'January'\n",
      " 'February' 'March' 'April' 'May' 'June']\n",
      "-----------------------------------------------------------------------------------------------------------\n",
      "meal : ['BB' 'FB' 'HB' 'SC' 'Undefined']\n",
      "-----------------------------------------------------------------------------------------------------------\n",
      "country : ['PRT' 'GBR' 'USA' 'ESP' 'IRL' 'FRA' nan 'ROU' 'NOR' 'OMN' 'ARG' 'POL'\n",
      " 'DEU' 'BEL' 'CHE' 'CN' 'GRC' 'ITA' 'NLD' 'DNK' 'RUS' 'SWE' 'AUS' 'EST'\n",
      " 'CZE' 'BRA' 'FIN' 'MOZ' 'BWA' 'LUX' 'SVN' 'ALB' 'IND' 'CHN' 'MEX' 'MAR'\n",
      " 'UKR' 'SMR' 'LVA' 'PRI' 'SRB' 'CHL' 'AUT' 'BLR' 'LTU' 'TUR' 'ZAF' 'AGO'\n",
      " 'ISR' 'CYM' 'ZMB' 'CPV' 'ZWE' 'DZA' 'KOR' 'CRI' 'HUN' 'ARE' 'TUN' 'JAM'\n",
      " 'HRV' 'HKG' 'IRN' 'GEO' 'AND' 'GIB' 'URY' 'JEY' 'CAF' 'CYP' 'COL' 'GGY'\n",
      " 'KWT' 'NGA' 'MDV' 'VEN' 'SVK' 'FJI' 'KAZ' 'PAK' 'IDN' 'LBN' 'PHL' 'SEN'\n",
      " 'SYC' 'AZE' 'BHR' 'NZL' 'THA' 'DOM' 'MKD' 'MYS' 'ARM' 'JPN' 'LKA' 'CUB'\n",
      " 'CMR' 'BIH' 'MUS' 'COM' 'SUR' 'UGA' 'BGR' 'CIV' 'JOR' 'SYR' 'SGP' 'BDI'\n",
      " 'SAU' 'VNM' 'PLW' 'QAT' 'EGY' 'PER' 'MLT' 'MWI' 'ECU' 'MDG' 'ISL' 'UZB'\n",
      " 'NPL' 'BHS' 'MAC' 'TGO' 'TWN' 'DJI' 'STP' 'KNA' 'ETH' 'IRQ' 'HND' 'RWA'\n",
      " 'KHM' 'MCO' 'BGD' 'IMN' 'TJK' 'NIC' 'BEN' 'VGB' 'TZA' 'GAB' 'GHA' 'TMP'\n",
      " 'GLP' 'KEN' 'LIE' 'GNB' 'MNE' 'UMI' 'MYT' 'FRO' 'MMR' 'PAN' 'BFA' 'LBY'\n",
      " 'MLI' 'NAM' 'BOL' 'PRY' 'BRB' 'ABW' 'AIA' 'SLV' 'DMA' 'PYF' 'GUY' 'LCA'\n",
      " 'ATA' 'GTM' 'ASM' 'MRT' 'NCL' 'KIR' 'SDN' 'ATF' 'SLE' 'LAO']\n",
      "-----------------------------------------------------------------------------------------------------------\n",
      "market_segment : ['Direct' 'Corporate' 'Online TA' 'Offline TA/TO' 'Complementary' 'Groups'\n",
      " 'Undefined' 'Aviation']\n",
      "-----------------------------------------------------------------------------------------------------------\n",
      "distribution_channel : ['Direct' 'Corporate' 'TA/TO' 'Undefined' 'GDS']\n",
      "-----------------------------------------------------------------------------------------------------------\n",
      "reserved_room_type : ['C' 'A' 'D' 'E' 'G' 'F' 'H' 'L' 'P' 'B']\n",
      "-----------------------------------------------------------------------------------------------------------\n",
      "assigned_room_type : ['C' 'A' 'D' 'E' 'G' 'F' 'I' 'B' 'H' 'P' 'L' 'K']\n",
      "-----------------------------------------------------------------------------------------------------------\n",
      "deposit_type : ['No Deposit' 'Refundable' 'Non Refund']\n",
      "-----------------------------------------------------------------------------------------------------------\n",
      "customer_type : ['Transient' 'Contract' 'Transient-Party' 'Group']\n",
      "-----------------------------------------------------------------------------------------------------------\n",
      "reservation_status : ['Check-Out' 'Canceled' 'No-Show']\n",
      "-----------------------------------------------------------------------------------------------------------\n",
      "reservation_status_date : ['01-07-2015' '02-07-2015' '03-07-2015' '06-05-2015' '22-04-2015'\n",
      " '23-06-2015' '05-07-2015' '06-07-2015' '07-07-2015' '08-07-2015'\n",
      " '11-05-2015' '15-07-2015' '16-07-2015' '29-05-2015' '19-05-2015'\n",
      " '19-06-2015' '23-05-2015' '18-05-2015' '09-07-2015' '02-06-2015'\n",
      " '13-07-2015' '04-07-2015' '29-06-2015' '16-06-2015' '18-06-2015'\n",
      " '12-06-2015' '09-06-2015' '26-05-2015' '11-07-2015' '12-07-2015'\n",
      " '17-07-2015' '15-04-2015' '13-05-2015' '10-07-2015' '20-05-2015'\n",
      " '12-05-2015' '14-07-2015' '17-06-2015' '01-05-2015' '30-03-2015'\n",
      " '19-07-2015' '03-06-2015' '26-06-2015' '14-05-2015' '20-07-2015'\n",
      " '07-05-2015' '28-05-2015' '13-04-2015' '25-03-2015' '21-07-2015'\n",
      " '27-06-2015' '18-07-2015' '23-07-2015' '08-06-2015' '22-06-2015'\n",
      " '24-06-2015' '05-03-2015' '01-06-2015' '24-04-2015' '22-07-2015'\n",
      " '27-05-2015' '06-04-2015' '11-04-2015' '25-07-2015' '28-07-2015'\n",
      " '29-07-2015' '25-06-2015' '24-07-2015' '05-06-2015' '30-06-2015'\n",
      " '13-06-2015' '11-06-2015' '30-07-2015' '27-07-2015' '29-04-2015'\n",
      " '04-06-2015' '26-07-2015' '01-08-2015' '02-08-2015' '15-06-2015'\n",
      " '23-04-2015' '31-07-2015' '25-05-2015' '03-08-2015' '17-04-2015'\n",
      " '04-08-2015' '06-08-2015' '15-05-2015' '09-05-2015' '17-03-2015'\n",
      " '22-05-2015' '07-08-2015' '04-04-2015' '05-08-2015' '08-08-2015'\n",
      " '10-08-2015' '04-05-2015' '06-06-2015' '09-08-2015' '15-08-2015'\n",
      " '11-08-2015' '28-03-2015' '14-08-2015' '12-08-2015' '16-08-2015'\n",
      " '16-05-2015' '21-08-2015' '13-08-2015' '17-08-2015' '20-04-2015'\n",
      " '18-08-2015' '23-08-2015' '22-08-2015' '19-08-2015' '20-08-2015'\n",
      " '29-08-2015' '31-03-2015' '30-05-2015' '25-08-2015' '14-04-2015'\n",
      " '24-08-2015' '24-03-2015' '21-05-2015' '28-08-2015' '26-08-2015'\n",
      " '27-08-2015' '30-08-2015' '31-08-2015' '06-09-2015' '03-09-2015'\n",
      " '04-09-2015' '02-09-2015' '01-09-2015' '05-09-2015' '20-06-2015'\n",
      " '07-09-2015' '10-09-2015' '11-09-2015' '08-09-2015' '09-09-2015'\n",
      " '13-09-2015' '15-09-2015' '10-04-2015' '02-01-2015' '18-11-2014'\n",
      " '12-09-2015' '17-09-2015' '14-09-2015' '07-04-2015' '19-09-2015'\n",
      " '16-09-2015' '20-09-2015' '18-01-2015' '23-10-2015' '22-01-2015'\n",
      " '01-01-2015' '22-09-2015' '24-09-2015' '18-09-2015' '21-09-2015'\n",
      " '30-09-2015' '25-09-2015' '27-09-2015' '28-09-2015' '12-10-2015'\n",
      " '29-09-2015' '23-09-2015' '01-10-2015' '26-09-2015' '18-04-2015'\n",
      " '02-10-2015' '04-10-2015' '08-10-2015' '03-10-2015' '07-10-2015'\n",
      " '09-10-2015' '11-10-2015' '05-10-2015' '06-10-2015' '10-10-2015'\n",
      " '14-10-2015' '15-10-2015' '18-10-2015' '13-10-2015' '20-10-2015'\n",
      " '19-10-2015' '31-10-2015' '16-10-2015' '21-10-2015' '22-10-2015'\n",
      " '17-10-2015' '24-10-2015' '25-10-2015' '28-10-2015' '27-10-2015'\n",
      " '26-10-2015' '30-10-2015' '05-11-2015' '29-10-2015' '03-11-2015'\n",
      " '07-11-2015' '04-11-2015' '01-11-2015' '02-11-2015' '17-11-2015'\n",
      " '06-11-2015' '10-11-2015' '08-11-2015' '09-11-2015' '15-11-2015'\n",
      " '16-11-2015' '11-11-2015' '12-11-2015' '14-11-2015' '13-11-2015'\n",
      " '18-11-2015' '22-11-2015' '19-11-2015' '21-11-2015' '20-11-2015'\n",
      " '24-11-2015' '25-11-2015' '23-11-2015' '28-11-2015' '26-11-2015'\n",
      " '27-11-2015' '29-11-2015' '04-12-2015' '01-12-2015' '06-12-2015'\n",
      " '08-12-2015' '02-12-2015' '03-12-2015' '31-12-2015' '05-12-2015'\n",
      " '10-12-2015' '17-12-2015' '30-11-2015' '12-12-2015' '07-12-2015'\n",
      " '05-01-2016' '11-12-2015' '13-12-2015' '15-12-2015' '16-12-2015'\n",
      " '19-12-2015' '18-12-2015' '26-12-2015' '27-12-2015' '22-12-2015'\n",
      " '23-12-2015' '24-12-2015' '29-12-2015' '28-12-2015' '20-12-2015'\n",
      " '30-12-2015' '02-01-2016' '01-01-2016' '25-12-2015' '03-01-2016'\n",
      " '04-01-2016' '11-01-2016' '07-01-2016' '21-12-2015' '09-01-2016'\n",
      " '10-01-2016' '08-01-2016' '06-01-2016' '12-01-2016' '13-01-2016'\n",
      " '23-01-2016' '09-02-2016' '15-01-2016' '16-01-2016' '17-01-2016'\n",
      " '19-01-2016' '18-01-2016' '21-01-2016' '24-01-2016' '22-01-2016'\n",
      " '29-01-2016' '27-01-2016' '25-01-2016' '08-03-2016' '26-01-2016'\n",
      " '20-01-2016' '30-01-2016' '01-02-2016' '02-02-2016' '08-02-2016'\n",
      " '07-02-2016' '28-01-2016' '05-02-2016' '03-02-2016' '13-02-2016'\n",
      " '10-02-2016' '04-02-2016' '12-02-2016' '11-02-2016' '16-02-2016'\n",
      " '14-02-2016' '15-02-2016' '20-02-2016' '06-02-2016' '14-01-2016'\n",
      " '17-02-2016' '21-02-2016' '24-02-2016' '25-02-2016' '19-02-2016'\n",
      " '18-02-2016' '26-02-2016' '23-02-2016' '05-03-2016' '22-02-2016'\n",
      " '27-02-2016' '03-03-2016' '24-03-2016' '04-03-2016' '29-02-2016'\n",
      " '01-03-2016' '02-03-2016' '30-03-2016' '07-03-2016' '14-03-2016'\n",
      " '21-03-2016' '09-03-2016' '12-03-2016' '22-03-2016' '10-03-2016'\n",
      " '11-03-2016' '20-03-2016' '15-03-2016' '17-03-2016' '16-03-2016'\n",
      " '19-03-2016' '27-03-2016' '18-03-2016' '26-03-2016' '31-03-2016'\n",
      " '28-03-2016' '29-03-2016' '01-04-2016' '23-03-2016' '02-04-2016'\n",
      " '25-03-2016' '13-03-2016' '04-04-2016' '03-04-2016' '05-04-2016'\n",
      " '08-04-2016' '06-04-2016' '09-04-2016' '12-04-2016' '16-04-2016'\n",
      " '17-04-2016' '27-04-2016' '14-04-2016' '18-04-2016' '21-04-2016'\n",
      " '19-04-2016' '20-04-2016' '10-04-2016' '13-04-2016' '11-04-2016'\n",
      " '07-04-2016' '15-04-2016' '22-04-2016' '23-04-2016' '26-04-2016'\n",
      " '28-04-2016' '24-04-2016' '25-04-2016' '29-04-2016' '30-04-2016'\n",
      " '01-05-2016' '10-05-2016' '02-05-2016' '07-05-2016' '08-05-2016'\n",
      " '12-05-2016' '04-05-2016' '06-05-2016' '03-05-2016' '09-05-2016'\n",
      " '05-05-2016' '13-05-2016' '14-05-2016' '18-05-2016' '19-05-2016'\n",
      " '15-05-2016' '16-05-2016' '11-05-2016' '21-05-2016' '22-05-2016'\n",
      " '20-05-2016' '24-05-2016' '25-05-2016' '26-05-2016' '23-05-2016'\n",
      " '27-05-2016' '17-05-2016' '29-05-2016' '28-05-2016' '30-05-2016'\n",
      " '31-05-2016' '01-06-2016' '03-06-2016' '08-06-2016' '02-06-2016'\n",
      " '05-06-2016' '06-06-2016' '13-06-2016' '07-06-2016' '10-06-2016'\n",
      " '11-06-2016' '16-06-2016' '12-06-2016' '14-06-2016' '17-06-2016'\n",
      " '04-06-2016' '18-06-2016' '21-06-2016' '09-06-2016' '24-06-2016'\n",
      " '20-06-2016' '25-06-2016' '22-06-2016' '26-06-2016' '23-06-2016'\n",
      " '01-07-2016' '15-06-2016' '28-06-2016' '02-07-2016' '19-06-2016'\n",
      " '27-06-2016' '04-07-2016' '30-06-2016' '05-07-2016' '08-07-2016'\n",
      " '09-07-2016' '07-07-2016' '12-07-2016' '29-06-2016' '10-07-2016'\n",
      " '15-07-2016' '03-07-2016' '16-07-2016' '14-07-2016' '18-07-2016'\n",
      " '13-07-2016' '06-07-2016' '20-07-2016' '21-07-2016' '23-07-2016'\n",
      " '19-07-2016' '11-07-2016' '28-07-2016' '17-07-2016' '25-07-2016'\n",
      " '22-07-2016' '29-07-2016' '03-08-2016' '02-08-2016' '04-08-2016'\n",
      " '08-08-2016' '10-08-2016' '01-08-2016' '06-08-2016' '06-03-2016'\n",
      " '05-08-2016' '26-07-2016' '07-08-2016' '30-07-2016' '24-07-2016'\n",
      " '12-08-2016' '27-07-2016' '13-08-2016' '18-08-2016' '16-08-2016'\n",
      " '15-08-2016' '17-08-2016' '11-08-2016' '31-07-2016' '19-08-2016'\n",
      " '01-09-2016' '23-08-2016' '26-08-2016' '20-08-2016' '21-08-2016'\n",
      " '04-09-2016' '22-08-2016' '27-08-2016' '25-08-2016' '09-08-2016'\n",
      " '05-09-2016' '24-08-2016' '10-09-2016' '29-08-2016' '09-09-2016'\n",
      " '30-08-2016' '13-09-2016' '31-08-2016' '14-09-2016' '12-09-2016'\n",
      " '15-09-2016' '14-08-2016' '02-09-2016' '08-09-2016' '19-09-2016'\n",
      " '16-09-2016' '07-09-2016' '21-09-2016' '06-09-2016' '22-09-2016'\n",
      " '17-09-2016' '20-09-2016' '03-09-2016' '26-09-2016' '23-09-2016'\n",
      " '18-09-2016' '29-09-2016' '02-10-2016' '01-10-2016' '27-09-2016'\n",
      " '25-09-2016' '05-10-2016' '11-09-2016' '30-09-2016' '09-10-2016'\n",
      " '03-10-2016' '06-10-2016' '11-10-2016' '24-09-2016' '13-10-2016'\n",
      " '28-09-2016' '08-10-2016' '07-10-2016' '16-10-2016' '28-08-2016'\n",
      " '17-10-2016' '18-10-2016' '10-10-2016' '04-10-2016' '15-10-2016'\n",
      " '19-10-2016' '21-10-2016' '12-10-2016' '24-10-2016' '26-10-2016'\n",
      " '23-10-2016' '20-10-2016' '25-10-2016' '27-10-2016' '28-10-2016'\n",
      " '30-10-2016' '29-10-2016' '01-11-2016' '04-11-2016' '14-10-2016'\n",
      " '07-11-2016' '03-11-2016' '10-11-2016' '14-11-2016' '02-11-2016'\n",
      " '31-10-2016' '11-11-2016' '08-11-2016' '05-11-2016' '25-11-2016'\n",
      " '09-11-2016' '20-11-2016' '21-11-2016' '22-10-2016' '22-11-2016'\n",
      " '16-11-2016' '23-11-2016' '17-11-2016' '06-11-2016' '15-11-2016'\n",
      " '13-11-2016' '12-11-2016' '27-11-2016' '19-11-2016' '30-11-2016'\n",
      " '18-11-2016' '02-12-2016' '04-12-2016' '29-11-2016' '07-12-2016'\n",
      " '28-11-2016' '03-12-2016' '06-12-2016' '24-11-2016' '08-12-2016'\n",
      " '05-12-2016' '10-12-2016' '13-12-2016' '14-12-2016' '16-12-2016'\n",
      " '15-12-2016' '17-12-2016' '19-12-2016' '21-12-2016' '20-12-2016'\n",
      " '22-12-2016' '23-12-2016' '24-12-2016' '01-12-2016' '27-12-2016'\n",
      " '29-12-2016' '30-12-2016' '12-12-2016' '02-01-2017' '11-12-2016'\n",
      " '03-01-2017' '04-01-2017' '01-01-2017' '26-12-2016' '06-01-2017'\n",
      " '28-12-2016' '18-12-2016' '10-01-2017' '11-01-2017' '07-01-2017'\n",
      " '12-01-2017' '16-01-2017' '14-01-2017' '13-01-2017' '05-01-2017'\n",
      " '17-01-2017' '20-01-2017' '09-12-2016' '26-01-2017' '31-12-2016'\n",
      " '23-01-2017' '27-01-2017' '28-01-2017' '19-01-2017' '25-01-2017'\n",
      " '24-01-2017' '29-01-2017' '18-01-2017' '25-12-2016' '15-01-2017'\n",
      " '21-01-2017' '01-02-2017' '02-02-2017' '31-01-2017' '03-02-2017'\n",
      " '04-02-2017' '06-02-2017' '07-02-2017' '08-02-2017' '30-01-2017'\n",
      " '09-02-2017' '09-01-2017' '11-02-2017' '10-02-2017' '12-02-2017'\n",
      " '13-02-2017' '14-02-2017' '16-02-2017' '17-02-2017' '18-02-2017'\n",
      " '19-02-2017' '20-02-2017' '15-02-2017' '21-02-2017' '22-02-2017'\n",
      " '26-02-2017' '23-02-2017' '24-02-2017' '25-02-2017' '28-02-2017'\n",
      " '05-03-2017' '27-02-2017' '03-03-2017' '06-03-2017' '02-03-2017'\n",
      " '08-03-2017' '09-03-2017' '10-03-2017' '07-03-2017' '12-03-2017'\n",
      " '13-03-2017' '14-03-2017' '01-03-2017' '18-03-2017' '17-03-2017'\n",
      " '24-03-2017' '22-03-2017' '26-03-2017' '27-03-2017' '11-03-2017'\n",
      " '28-03-2017' '29-03-2017' '30-03-2017' '31-03-2017' '19-03-2017'\n",
      " '22-01-2017' '02-04-2017' '20-03-2017' '03-04-2017' '08-01-2017'\n",
      " '23-03-2017' '05-04-2017' '05-02-2017' '04-04-2017' '15-03-2017'\n",
      " '07-04-2017' '25-03-2017' '08-04-2017' '06-04-2017' '21-03-2017'\n",
      " '10-04-2017' '01-04-2017' '11-04-2017' '13-04-2017' '15-04-2017'\n",
      " '12-04-2017' '04-03-2017' '19-04-2017' '22-04-2017' '20-04-2017'\n",
      " '02-05-2017' '09-04-2017' '23-04-2017' '24-04-2017' '16-04-2017'\n",
      " '28-04-2017' '18-04-2017' '26-04-2017' '25-04-2017' '17-04-2017'\n",
      " '21-04-2017' '03-05-2017' '04-05-2017' '16-03-2017' '05-05-2017'\n",
      " '29-04-2017' '14-04-2017' '08-05-2017' '27-04-2017' '11-05-2017'\n",
      " '01-05-2017' '10-05-2017' '13-05-2017' '06-05-2017' '14-05-2017'\n",
      " '16-05-2017' '30-04-2017' '15-05-2017' '07-05-2017' '09-05-2017'\n",
      " '17-05-2017' '21-05-2017' '12-05-2017' '22-05-2017' '24-05-2017'\n",
      " '23-05-2017' '25-05-2017' '26-05-2017' '28-05-2017' '27-05-2017'\n",
      " '29-05-2017' '19-05-2017' '31-05-2017' '20-05-2017' '01-06-2017'\n",
      " '30-05-2017' '02-06-2017' '26-11-2016' '04-06-2017' '05-06-2017'\n",
      " '06-06-2017' '07-06-2017' '18-05-2017' '09-06-2017' '10-06-2017'\n",
      " '11-06-2017' '12-06-2017' '14-06-2017' '08-06-2017' '16-06-2017'\n",
      " '13-06-2017' '03-06-2017' '24-06-2017' '20-06-2017' '19-06-2017'\n",
      " '21-06-2017' '26-06-2017' '27-06-2017' '22-06-2017' '28-06-2017'\n",
      " '15-06-2017' '29-06-2017' '30-06-2017' '18-06-2017' '04-07-2017'\n",
      " '08-07-2017' '05-07-2017' '03-07-2017' '07-07-2017' '01-07-2017'\n",
      " '06-07-2017' '11-07-2017' '12-07-2017' '23-06-2017' '13-07-2017'\n",
      " '02-07-2017' '10-07-2017' '14-07-2017' '15-07-2017' '16-07-2017'\n",
      " '18-07-2017' '17-07-2017' '19-07-2017' '20-07-2017' '21-07-2017'\n",
      " '25-06-2017' '17-06-2017' '24-07-2017' '26-07-2017' '09-07-2017'\n",
      " '27-07-2017' '28-07-2017' '31-07-2017' '29-07-2017' '22-07-2017'\n",
      " '02-08-2017' '01-08-2017' '03-08-2017' '04-08-2017' '25-07-2017'\n",
      " '23-07-2017' '09-08-2017' '10-08-2017' '30-07-2017' '07-08-2017'\n",
      " '13-08-2017' '05-08-2017' '14-08-2017' '08-08-2017' '16-08-2017'\n",
      " '17-08-2017' '15-08-2017' '18-08-2017' '20-08-2017' '22-08-2017'\n",
      " '06-08-2017' '25-08-2017' '26-08-2017' '23-08-2017' '11-08-2017'\n",
      " '27-08-2017' '21-08-2017' '29-08-2017' '31-08-2017' '12-08-2017'\n",
      " '19-08-2017' '31-01-2016' '01-09-2017' '28-08-2017' '03-04-2015'\n",
      " '21-01-2015' '28-01-2015' '29-01-2015' '30-01-2015' '02-02-2015'\n",
      " '05-02-2015' '06-02-2015' '09-02-2015' '10-02-2015' '11-02-2015'\n",
      " '12-02-2015' '19-02-2015' '20-02-2015' '23-02-2015' '24-02-2015'\n",
      " '25-02-2015' '26-02-2015' '27-02-2015' '03-03-2015' '04-03-2015'\n",
      " '06-03-2015' '09-03-2015' '11-03-2015' '12-03-2015' '18-03-2015'\n",
      " '02-04-2015' '14-06-2015' '08-04-2015' '16-04-2015' '25-04-2015'\n",
      " '28-04-2015' '08-05-2015' '06-09-2017' '28-02-2016' '09-12-2015'\n",
      " '14-12-2015' '09-09-2017' '02-09-2017' '24-08-2017' '30-08-2017'\n",
      " '03-09-2017' '04-09-2017' '05-09-2017' '07-09-2017' '08-09-2017'\n",
      " '10-09-2017' '12-09-2017' '14-09-2017' '30-04-2015' '21-04-2015'\n",
      " '05-04-2015' '13-03-2015' '05-05-2015' '29-03-2015' '10-06-2015'\n",
      " '27-04-2015' '17-10-2014' '20-01-2015' '17-02-2015' '10-03-2015'\n",
      " '23-03-2015']\n",
      "-----------------------------------------------------------------------------------------------------------\n",
      "arrival_date_year : [2015 2016 2017]\n",
      "-----------------------------------------------------------------------------------------------------------\n",
      "stays_in_weekend_nights : [ 0  1  2  4  3  6 13  8  5  7 12  9 16 18 19 10 14]\n",
      "-----------------------------------------------------------------------------------------------------------\n",
      "adults : [ 2  1  3  4 40 26 50 27 55  0 20  6  5 10]\n",
      "-----------------------------------------------------------------------------------------------------------\n",
      "children : [ 0.  1.  2. 10.  3. nan]\n",
      "-----------------------------------------------------------------------------------------------------------\n",
      "babies : [ 0  1  2 10  9]\n",
      "-----------------------------------------------------------------------------------------------------------\n",
      "is_repeated_guest : [0 1]\n",
      "-----------------------------------------------------------------------------------------------------------\n",
      "previous_cancellations : [ 0  1  2  3 26 25 14  4 24 19  5 21  6 13 11]\n",
      "-----------------------------------------------------------------------------------------------------------\n",
      "required_car_parking_spaces : [0 1 2 8 3]\n",
      "-----------------------------------------------------------------------------------------------------------\n",
      "total_of_special_requests : [0 1 3 2 4 5]\n",
      "-----------------------------------------------------------------------------------------------------------\n"
     ]
    }
   ],
   "source": [
    "for col in cat.columns:\n",
    "    print(f\"{col} : {cat[col].unique()}\")\n",
    "    print(\"-----------------------------------------------------------------------------------------------------------\")"
   ]
  },
  {
   "cell_type": "code",
   "execution_count": 197,
   "metadata": {},
   "outputs": [],
   "source": [
    "cat['reservation_status_date'] = pd.to_datetime(cat['reservation_status_date'])"
   ]
  },
  {
   "cell_type": "code",
   "execution_count": 198,
   "metadata": {},
   "outputs": [],
   "source": [
    "cat['reservation_status_year'] = cat['reservation_status_date'].dt.year\n",
    "cat['reservation_status_month'] = cat['reservation_status_date'].dt.month\n",
    "cat['reservation_status_day'] = cat['reservation_status_date'].dt.day"
   ]
  },
  {
   "cell_type": "code",
   "execution_count": 199,
   "metadata": {},
   "outputs": [
    {
     "data": {
      "text/plain": [
       "(119390, 24)"
      ]
     },
     "execution_count": 199,
     "metadata": {},
     "output_type": "execute_result"
    }
   ],
   "source": [
    "cat.shape"
   ]
  },
  {
   "cell_type": "code",
   "execution_count": 200,
   "metadata": {},
   "outputs": [
    {
     "data": {
      "text/html": [
       "<div>\n",
       "<style scoped>\n",
       "    .dataframe tbody tr th:only-of-type {\n",
       "        vertical-align: middle;\n",
       "    }\n",
       "\n",
       "    .dataframe tbody tr th {\n",
       "        vertical-align: top;\n",
       "    }\n",
       "\n",
       "    .dataframe thead th {\n",
       "        text-align: right;\n",
       "    }\n",
       "</style>\n",
       "<table border=\"1\" class=\"dataframe\">\n",
       "  <thead>\n",
       "    <tr style=\"text-align: right;\">\n",
       "      <th></th>\n",
       "      <th>hotel</th>\n",
       "      <th>arrival_date_month</th>\n",
       "      <th>meal</th>\n",
       "      <th>country</th>\n",
       "      <th>market_segment</th>\n",
       "      <th>distribution_channel</th>\n",
       "      <th>reserved_room_type</th>\n",
       "      <th>assigned_room_type</th>\n",
       "      <th>deposit_type</th>\n",
       "      <th>customer_type</th>\n",
       "      <th>...</th>\n",
       "      <th>adults</th>\n",
       "      <th>children</th>\n",
       "      <th>babies</th>\n",
       "      <th>is_repeated_guest</th>\n",
       "      <th>previous_cancellations</th>\n",
       "      <th>required_car_parking_spaces</th>\n",
       "      <th>total_of_special_requests</th>\n",
       "      <th>reservation_status_year</th>\n",
       "      <th>reservation_status_month</th>\n",
       "      <th>reservation_status_day</th>\n",
       "    </tr>\n",
       "  </thead>\n",
       "  <tbody>\n",
       "    <tr>\n",
       "      <th>0</th>\n",
       "      <td>Resort Hotel</td>\n",
       "      <td>July</td>\n",
       "      <td>BB</td>\n",
       "      <td>PRT</td>\n",
       "      <td>Direct</td>\n",
       "      <td>Direct</td>\n",
       "      <td>C</td>\n",
       "      <td>C</td>\n",
       "      <td>No Deposit</td>\n",
       "      <td>Transient</td>\n",
       "      <td>...</td>\n",
       "      <td>2</td>\n",
       "      <td>0.0</td>\n",
       "      <td>0</td>\n",
       "      <td>0</td>\n",
       "      <td>0</td>\n",
       "      <td>0</td>\n",
       "      <td>0</td>\n",
       "      <td>2015</td>\n",
       "      <td>1</td>\n",
       "      <td>7</td>\n",
       "    </tr>\n",
       "    <tr>\n",
       "      <th>1</th>\n",
       "      <td>Resort Hotel</td>\n",
       "      <td>July</td>\n",
       "      <td>BB</td>\n",
       "      <td>PRT</td>\n",
       "      <td>Direct</td>\n",
       "      <td>Direct</td>\n",
       "      <td>C</td>\n",
       "      <td>C</td>\n",
       "      <td>No Deposit</td>\n",
       "      <td>Transient</td>\n",
       "      <td>...</td>\n",
       "      <td>2</td>\n",
       "      <td>0.0</td>\n",
       "      <td>0</td>\n",
       "      <td>0</td>\n",
       "      <td>0</td>\n",
       "      <td>0</td>\n",
       "      <td>0</td>\n",
       "      <td>2015</td>\n",
       "      <td>1</td>\n",
       "      <td>7</td>\n",
       "    </tr>\n",
       "    <tr>\n",
       "      <th>2</th>\n",
       "      <td>Resort Hotel</td>\n",
       "      <td>July</td>\n",
       "      <td>BB</td>\n",
       "      <td>GBR</td>\n",
       "      <td>Direct</td>\n",
       "      <td>Direct</td>\n",
       "      <td>A</td>\n",
       "      <td>C</td>\n",
       "      <td>No Deposit</td>\n",
       "      <td>Transient</td>\n",
       "      <td>...</td>\n",
       "      <td>1</td>\n",
       "      <td>0.0</td>\n",
       "      <td>0</td>\n",
       "      <td>0</td>\n",
       "      <td>0</td>\n",
       "      <td>0</td>\n",
       "      <td>0</td>\n",
       "      <td>2015</td>\n",
       "      <td>2</td>\n",
       "      <td>7</td>\n",
       "    </tr>\n",
       "    <tr>\n",
       "      <th>3</th>\n",
       "      <td>Resort Hotel</td>\n",
       "      <td>July</td>\n",
       "      <td>BB</td>\n",
       "      <td>GBR</td>\n",
       "      <td>Corporate</td>\n",
       "      <td>Corporate</td>\n",
       "      <td>A</td>\n",
       "      <td>A</td>\n",
       "      <td>No Deposit</td>\n",
       "      <td>Transient</td>\n",
       "      <td>...</td>\n",
       "      <td>1</td>\n",
       "      <td>0.0</td>\n",
       "      <td>0</td>\n",
       "      <td>0</td>\n",
       "      <td>0</td>\n",
       "      <td>0</td>\n",
       "      <td>0</td>\n",
       "      <td>2015</td>\n",
       "      <td>2</td>\n",
       "      <td>7</td>\n",
       "    </tr>\n",
       "    <tr>\n",
       "      <th>4</th>\n",
       "      <td>Resort Hotel</td>\n",
       "      <td>July</td>\n",
       "      <td>BB</td>\n",
       "      <td>GBR</td>\n",
       "      <td>Online TA</td>\n",
       "      <td>TA/TO</td>\n",
       "      <td>A</td>\n",
       "      <td>A</td>\n",
       "      <td>No Deposit</td>\n",
       "      <td>Transient</td>\n",
       "      <td>...</td>\n",
       "      <td>2</td>\n",
       "      <td>0.0</td>\n",
       "      <td>0</td>\n",
       "      <td>0</td>\n",
       "      <td>0</td>\n",
       "      <td>0</td>\n",
       "      <td>1</td>\n",
       "      <td>2015</td>\n",
       "      <td>3</td>\n",
       "      <td>7</td>\n",
       "    </tr>\n",
       "  </tbody>\n",
       "</table>\n",
       "<p>5 rows × 24 columns</p>\n",
       "</div>"
      ],
      "text/plain": [
       "          hotel arrival_date_month meal country market_segment  \\\n",
       "0  Resort Hotel               July   BB     PRT         Direct   \n",
       "1  Resort Hotel               July   BB     PRT         Direct   \n",
       "2  Resort Hotel               July   BB     GBR         Direct   \n",
       "3  Resort Hotel               July   BB     GBR      Corporate   \n",
       "4  Resort Hotel               July   BB     GBR      Online TA   \n",
       "\n",
       "  distribution_channel reserved_room_type assigned_room_type deposit_type  \\\n",
       "0               Direct                  C                  C   No Deposit   \n",
       "1               Direct                  C                  C   No Deposit   \n",
       "2               Direct                  A                  C   No Deposit   \n",
       "3            Corporate                  A                  A   No Deposit   \n",
       "4                TA/TO                  A                  A   No Deposit   \n",
       "\n",
       "  customer_type  ... adults children  babies  is_repeated_guest  \\\n",
       "0     Transient  ...      2      0.0       0                  0   \n",
       "1     Transient  ...      2      0.0       0                  0   \n",
       "2     Transient  ...      1      0.0       0                  0   \n",
       "3     Transient  ...      1      0.0       0                  0   \n",
       "4     Transient  ...      2      0.0       0                  0   \n",
       "\n",
       "   previous_cancellations  required_car_parking_spaces  \\\n",
       "0                       0                            0   \n",
       "1                       0                            0   \n",
       "2                       0                            0   \n",
       "3                       0                            0   \n",
       "4                       0                            0   \n",
       "\n",
       "   total_of_special_requests  reservation_status_year  \\\n",
       "0                          0                     2015   \n",
       "1                          0                     2015   \n",
       "2                          0                     2015   \n",
       "3                          0                     2015   \n",
       "4                          1                     2015   \n",
       "\n",
       "   reservation_status_month  reservation_status_day  \n",
       "0                         1                       7  \n",
       "1                         1                       7  \n",
       "2                         2                       7  \n",
       "3                         2                       7  \n",
       "4                         3                       7  \n",
       "\n",
       "[5 rows x 24 columns]"
      ]
     },
     "execution_count": 200,
     "metadata": {},
     "output_type": "execute_result"
    }
   ],
   "source": [
    "cat.head()"
   ]
  },
  {
   "cell_type": "code",
   "execution_count": 201,
   "metadata": {},
   "outputs": [],
   "source": [
    "cat.drop(['reservation_status_date'],axis=1,inplace=True)"
   ]
  },
  {
   "cell_type": "code",
   "execution_count": 202,
   "metadata": {},
   "outputs": [
    {
     "name": "stdout",
     "output_type": "stream",
     "text": [
      "hotel : ['Resort Hotel' 'City Hotel']\n",
      "-----------------------------------------------------------------------------------------------------------\n",
      "arrival_date_month : ['July' 'August' 'September' 'October' 'November' 'December' 'January'\n",
      " 'February' 'March' 'April' 'May' 'June']\n",
      "-----------------------------------------------------------------------------------------------------------\n",
      "meal : ['BB' 'FB' 'HB' 'SC' 'Undefined']\n",
      "-----------------------------------------------------------------------------------------------------------\n",
      "country : ['PRT' 'GBR' 'USA' 'ESP' 'IRL' 'FRA' nan 'ROU' 'NOR' 'OMN' 'ARG' 'POL'\n",
      " 'DEU' 'BEL' 'CHE' 'CN' 'GRC' 'ITA' 'NLD' 'DNK' 'RUS' 'SWE' 'AUS' 'EST'\n",
      " 'CZE' 'BRA' 'FIN' 'MOZ' 'BWA' 'LUX' 'SVN' 'ALB' 'IND' 'CHN' 'MEX' 'MAR'\n",
      " 'UKR' 'SMR' 'LVA' 'PRI' 'SRB' 'CHL' 'AUT' 'BLR' 'LTU' 'TUR' 'ZAF' 'AGO'\n",
      " 'ISR' 'CYM' 'ZMB' 'CPV' 'ZWE' 'DZA' 'KOR' 'CRI' 'HUN' 'ARE' 'TUN' 'JAM'\n",
      " 'HRV' 'HKG' 'IRN' 'GEO' 'AND' 'GIB' 'URY' 'JEY' 'CAF' 'CYP' 'COL' 'GGY'\n",
      " 'KWT' 'NGA' 'MDV' 'VEN' 'SVK' 'FJI' 'KAZ' 'PAK' 'IDN' 'LBN' 'PHL' 'SEN'\n",
      " 'SYC' 'AZE' 'BHR' 'NZL' 'THA' 'DOM' 'MKD' 'MYS' 'ARM' 'JPN' 'LKA' 'CUB'\n",
      " 'CMR' 'BIH' 'MUS' 'COM' 'SUR' 'UGA' 'BGR' 'CIV' 'JOR' 'SYR' 'SGP' 'BDI'\n",
      " 'SAU' 'VNM' 'PLW' 'QAT' 'EGY' 'PER' 'MLT' 'MWI' 'ECU' 'MDG' 'ISL' 'UZB'\n",
      " 'NPL' 'BHS' 'MAC' 'TGO' 'TWN' 'DJI' 'STP' 'KNA' 'ETH' 'IRQ' 'HND' 'RWA'\n",
      " 'KHM' 'MCO' 'BGD' 'IMN' 'TJK' 'NIC' 'BEN' 'VGB' 'TZA' 'GAB' 'GHA' 'TMP'\n",
      " 'GLP' 'KEN' 'LIE' 'GNB' 'MNE' 'UMI' 'MYT' 'FRO' 'MMR' 'PAN' 'BFA' 'LBY'\n",
      " 'MLI' 'NAM' 'BOL' 'PRY' 'BRB' 'ABW' 'AIA' 'SLV' 'DMA' 'PYF' 'GUY' 'LCA'\n",
      " 'ATA' 'GTM' 'ASM' 'MRT' 'NCL' 'KIR' 'SDN' 'ATF' 'SLE' 'LAO']\n",
      "-----------------------------------------------------------------------------------------------------------\n",
      "market_segment : ['Direct' 'Corporate' 'Online TA' 'Offline TA/TO' 'Complementary' 'Groups'\n",
      " 'Undefined' 'Aviation']\n",
      "-----------------------------------------------------------------------------------------------------------\n",
      "distribution_channel : ['Direct' 'Corporate' 'TA/TO' 'Undefined' 'GDS']\n",
      "-----------------------------------------------------------------------------------------------------------\n",
      "reserved_room_type : ['C' 'A' 'D' 'E' 'G' 'F' 'H' 'L' 'P' 'B']\n",
      "-----------------------------------------------------------------------------------------------------------\n",
      "assigned_room_type : ['C' 'A' 'D' 'E' 'G' 'F' 'I' 'B' 'H' 'P' 'L' 'K']\n",
      "-----------------------------------------------------------------------------------------------------------\n",
      "deposit_type : ['No Deposit' 'Refundable' 'Non Refund']\n",
      "-----------------------------------------------------------------------------------------------------------\n",
      "customer_type : ['Transient' 'Contract' 'Transient-Party' 'Group']\n",
      "-----------------------------------------------------------------------------------------------------------\n",
      "reservation_status : ['Check-Out' 'Canceled' 'No-Show']\n",
      "-----------------------------------------------------------------------------------------------------------\n",
      "arrival_date_year : [2015 2016 2017]\n",
      "-----------------------------------------------------------------------------------------------------------\n",
      "stays_in_weekend_nights : [ 0  1  2  4  3  6 13  8  5  7 12  9 16 18 19 10 14]\n",
      "-----------------------------------------------------------------------------------------------------------\n",
      "adults : [ 2  1  3  4 40 26 50 27 55  0 20  6  5 10]\n",
      "-----------------------------------------------------------------------------------------------------------\n",
      "children : [ 0.  1.  2. 10.  3. nan]\n",
      "-----------------------------------------------------------------------------------------------------------\n",
      "babies : [ 0  1  2 10  9]\n",
      "-----------------------------------------------------------------------------------------------------------\n",
      "is_repeated_guest : [0 1]\n",
      "-----------------------------------------------------------------------------------------------------------\n",
      "previous_cancellations : [ 0  1  2  3 26 25 14  4 24 19  5 21  6 13 11]\n",
      "-----------------------------------------------------------------------------------------------------------\n",
      "required_car_parking_spaces : [0 1 2 8 3]\n",
      "-----------------------------------------------------------------------------------------------------------\n",
      "total_of_special_requests : [0 1 3 2 4 5]\n",
      "-----------------------------------------------------------------------------------------------------------\n",
      "reservation_status_year : [2015 2014 2016 2017]\n",
      "-----------------------------------------------------------------------------------------------------------\n",
      "reservation_status_month : [ 1  2  3  6  4  5  7  8 11  9 12 10]\n",
      "-----------------------------------------------------------------------------------------------------------\n",
      "reservation_status_day : [ 7  5 22 23 15 16 29 19 18  6 13 26 17 20 14 30 28 25 21 27 24  3  4  8\n",
      " 31  9  1 10 11 12  2]\n",
      "-----------------------------------------------------------------------------------------------------------\n"
     ]
    }
   ],
   "source": [
    "for col in cat.columns:\n",
    "    print(f\"{col} : {cat[col].unique()}\")\n",
    "    print(\"-----------------------------------------------------------------------------------------------------------\")"
   ]
  },
  {
   "cell_type": "markdown",
   "metadata": {},
   "source": [
    "###### Checking missing values"
   ]
  },
  {
   "cell_type": "code",
   "execution_count": 203,
   "metadata": {},
   "outputs": [
    {
     "data": {
      "text/plain": [
       "hotel                          0.000000\n",
       "arrival_date_month             0.000000\n",
       "meal                           0.000000\n",
       "country                        0.408744\n",
       "market_segment                 0.000000\n",
       "distribution_channel           0.000000\n",
       "reserved_room_type             0.000000\n",
       "assigned_room_type             0.000000\n",
       "deposit_type                   0.000000\n",
       "customer_type                  0.000000\n",
       "reservation_status             0.000000\n",
       "arrival_date_year              0.000000\n",
       "stays_in_weekend_nights        0.000000\n",
       "adults                         0.000000\n",
       "children                       0.003350\n",
       "babies                         0.000000\n",
       "is_repeated_guest              0.000000\n",
       "previous_cancellations         0.000000\n",
       "required_car_parking_spaces    0.000000\n",
       "total_of_special_requests      0.000000\n",
       "reservation_status_year        0.000000\n",
       "reservation_status_month       0.000000\n",
       "reservation_status_day         0.000000\n",
       "dtype: float64"
      ]
     },
     "execution_count": 203,
     "metadata": {},
     "output_type": "execute_result"
    }
   ],
   "source": [
    "cat.isnull().sum()/len(cat)*100"
   ]
  },
  {
   "cell_type": "code",
   "execution_count": 204,
   "metadata": {},
   "outputs": [],
   "source": [
    "imp = SimpleImputer(missing_values=np.nan, strategy='most_frequent')\n",
    "cat['country'] = imp.fit_transform(cat[['country']])"
   ]
  },
  {
   "cell_type": "code",
   "execution_count": 205,
   "metadata": {},
   "outputs": [],
   "source": [
    "cat['children'] = imp.fit_transform(cat[['children']])"
   ]
  },
  {
   "cell_type": "markdown",
   "metadata": {},
   "source": [
    "###### Encoding the categorical variables"
   ]
  },
  {
   "cell_type": "code",
   "execution_count": 206,
   "metadata": {},
   "outputs": [],
   "source": [
    "le = cat[['hotel','deposit_type','reservation_status']]\n",
    "oh = cat[['arrival_date_month','meal','country','market_segment','distribution_channel','reserved_room_type','assigned_room_type','customer_type']]"
   ]
  },
  {
   "cell_type": "code",
   "execution_count": 207,
   "metadata": {},
   "outputs": [],
   "source": [
    "enc = LabelEncoder()\n",
    "for col in le.columns:\n",
    "    cat[col] = enc.fit_transform(cat[col])"
   ]
  },
  {
   "cell_type": "code",
   "execution_count": 208,
   "metadata": {},
   "outputs": [],
   "source": [
    "ohe = OneHotEncoder()\n",
    "for col in oh.columns:\n",
    "    X=ohe.fit_transform(cat[col].values.reshape(-1,1)).toarray()\n",
    "    onehotdf = pd.DataFrame(X,columns=[i for i in cat[col].unique()])\n",
    "    onehotdf.drop(onehotdf.columns[0], axis=1,inplace=True)\n",
    "    cat = pd.concat([cat, onehotdf], axis=1)\n",
    "    cat= cat.drop([col], axis=1)"
   ]
  },
  {
   "cell_type": "code",
   "execution_count": 209,
   "metadata": {},
   "outputs": [
    {
     "data": {
      "text/plain": [
       "(119390, 240)"
      ]
     },
     "execution_count": 209,
     "metadata": {},
     "output_type": "execute_result"
    }
   ],
   "source": [
    "cat.shape"
   ]
  },
  {
   "cell_type": "markdown",
   "metadata": {},
   "source": [
    "###### Feature Importance"
   ]
  },
  {
   "cell_type": "code",
   "execution_count": 210,
   "metadata": {},
   "outputs": [
    {
     "data": {
      "text/plain": [
       "RandomForestClassifier()"
      ]
     },
     "execution_count": 210,
     "metadata": {},
     "output_type": "execute_result"
    }
   ],
   "source": [
    "rf.fit(cat,y)"
   ]
  },
  {
   "cell_type": "code",
   "execution_count": 211,
   "metadata": {},
   "outputs": [],
   "source": [
    "cat_feature = pd.DataFrame({\"Features\":cat.columns,\"Score\":rf.feature_importances_}).sort_values(by='Score',ascending=False)"
   ]
  },
  {
   "cell_type": "code",
   "execution_count": 212,
   "metadata": {},
   "outputs": [
    {
     "data": {
      "text/html": [
       "<div>\n",
       "<style scoped>\n",
       "    .dataframe tbody tr th:only-of-type {\n",
       "        vertical-align: middle;\n",
       "    }\n",
       "\n",
       "    .dataframe tbody tr th {\n",
       "        vertical-align: top;\n",
       "    }\n",
       "\n",
       "    .dataframe thead th {\n",
       "        text-align: right;\n",
       "    }\n",
       "</style>\n",
       "<table border=\"1\" class=\"dataframe\">\n",
       "  <thead>\n",
       "    <tr style=\"text-align: right;\">\n",
       "      <th></th>\n",
       "      <th>Features</th>\n",
       "      <th>Score</th>\n",
       "    </tr>\n",
       "  </thead>\n",
       "  <tbody>\n",
       "    <tr>\n",
       "      <th>161</th>\n",
       "      <td>MCO</td>\n",
       "      <td>0.0</td>\n",
       "    </tr>\n",
       "    <tr>\n",
       "      <th>166</th>\n",
       "      <td>BEN</td>\n",
       "      <td>0.0</td>\n",
       "    </tr>\n",
       "    <tr>\n",
       "      <th>172</th>\n",
       "      <td>GLP</td>\n",
       "      <td>0.0</td>\n",
       "    </tr>\n",
       "    <tr>\n",
       "      <th>69</th>\n",
       "      <td>CHL</td>\n",
       "      <td>0.0</td>\n",
       "    </tr>\n",
       "  </tbody>\n",
       "</table>\n",
       "</div>"
      ],
      "text/plain": [
       "    Features  Score\n",
       "161      MCO    0.0\n",
       "166      BEN    0.0\n",
       "172      GLP    0.0\n",
       "69       CHL    0.0"
      ]
     },
     "execution_count": 212,
     "metadata": {},
     "output_type": "execute_result"
    }
   ],
   "source": [
    "cat_feature[cat_feature['Score']==0]"
   ]
  },
  {
   "cell_type": "code",
   "execution_count": 213,
   "metadata": {},
   "outputs": [],
   "source": [
    "cat.drop(['GLP','MCO','BEN','CHL'],axis=1,inplace=True)"
   ]
  },
  {
   "cell_type": "code",
   "execution_count": 214,
   "metadata": {},
   "outputs": [
    {
     "data": {
      "text/plain": [
       "(119390, 236)"
      ]
     },
     "execution_count": 214,
     "metadata": {},
     "output_type": "execute_result"
    }
   ],
   "source": [
    "cat.shape"
   ]
  },
  {
   "cell_type": "markdown",
   "metadata": {},
   "source": [
    "###### Final dataset"
   ]
  },
  {
   "cell_type": "code",
   "execution_count": 215,
   "metadata": {},
   "outputs": [],
   "source": [
    "new_data = pd.concat([num,cat],axis=1)"
   ]
  },
  {
   "cell_type": "markdown",
   "metadata": {},
   "source": [
    "#### Feature Scaling"
   ]
  },
  {
   "cell_type": "code",
   "execution_count": 216,
   "metadata": {},
   "outputs": [],
   "source": [
    "scaler = StandardScaler()\n",
    "new_data = scaler.fit_transform(new_data)"
   ]
  },
  {
   "cell_type": "markdown",
   "metadata": {},
   "source": [
    "#### Model building"
   ]
  },
  {
   "cell_type": "markdown",
   "metadata": {},
   "source": [
    "#### Logistic regression"
   ]
  },
  {
   "cell_type": "code",
   "execution_count": 219,
   "metadata": {},
   "outputs": [],
   "source": [
    "x_train,x_test,y_train,y_test = train_test_split(new_data,y,test_size=0.2,random_state=42)"
   ]
  },
  {
   "cell_type": "code",
   "execution_count": 220,
   "metadata": {},
   "outputs": [
    {
     "data": {
      "text/plain": [
       "LogisticRegression()"
      ]
     },
     "execution_count": 220,
     "metadata": {},
     "output_type": "execute_result"
    }
   ],
   "source": [
    "from sklearn.linear_model import LogisticRegression\n",
    "log_reg = LogisticRegression()\n",
    "log_reg.fit(x_train,y_train)"
   ]
  },
  {
   "cell_type": "code",
   "execution_count": 224,
   "metadata": {},
   "outputs": [],
   "source": [
    "from sklearn.metrics import accuracy_score, confusion_matrix, classification_report\n",
    "\n",
    "def print_score(clf, X_train, y_train, X_test, y_test, train=True):\n",
    "    if train:\n",
    "        pred = clf.predict(X_train)\n",
    "        clf_report = pd.DataFrame(classification_report(y_train, pred, output_dict=True))\n",
    "        print(\"Train Result:\\n================================================\")\n",
    "        print(f\"Accuracy Score: {accuracy_score(y_train, pred) * 100:.2f}%\")\n",
    "        print(\"_______________________________________________\")\n",
    "        print(f\"CLASSIFICATION REPORT:\\n{clf_report}\")\n",
    "        print(\"_______________________________________________\")\n",
    "        print(f\"Confusion Matrix: \\n {confusion_matrix(y_train, pred)}\\n\")\n",
    "        \n",
    "    elif train==False:\n",
    "        pred = clf.predict(X_test)\n",
    "        clf_report = pd.DataFrame(classification_report(y_test, pred, output_dict=True))\n",
    "        print(\"Test Result:\\n================================================\")        \n",
    "        print(f\"Accuracy Score: {accuracy_score(y_test, pred) * 100:.2f}%\")\n",
    "        print(\"_______________________________________________\")\n",
    "        print(f\"CLASSIFICATION REPORT:\\n{clf_report}\")\n",
    "        print(\"_______________________________________________\")\n",
    "        print(f\"Confusion Matrix: \\n {confusion_matrix(y_test, pred)}\\n\")"
   ]
  },
  {
   "cell_type": "code",
   "execution_count": 225,
   "metadata": {},
   "outputs": [
    {
     "name": "stdout",
     "output_type": "stream",
     "text": [
      "Train Result:\n",
      "================================================\n",
      "Accuracy Score: 98.89%\n",
      "_______________________________________________\n",
      "CLASSIFICATION REPORT:\n",
      "                      0             1  accuracy     macro avg  weighted avg\n",
      "precision      0.984071      0.997497  0.988902      0.990784      0.989027\n",
      "recall         0.998573      0.972371  0.988902      0.985472      0.988902\n",
      "f1-score       0.991269      0.984774  0.988902      0.988022      0.988872\n",
      "support    60259.000000  35253.000000  0.988902  95512.000000  95512.000000\n",
      "_______________________________________________\n",
      "Confusion Matrix: \n",
      " [[60173    86]\n",
      " [  974 34279]]\n",
      "\n",
      "Test Result:\n",
      "================================================\n",
      "Accuracy Score: 98.93%\n",
      "_______________________________________________\n",
      "CLASSIFICATION REPORT:\n",
      "                      0            1  accuracy     macro avg  weighted avg\n",
      "precision      0.984396     0.997830  0.989321      0.991113      0.989443\n",
      "recall         0.998725     0.973693  0.989321      0.986209      0.989321\n",
      "f1-score       0.991509     0.985614  0.989321      0.988561      0.989294\n",
      "support    14907.000000  8971.000000  0.989321  23878.000000  23878.000000\n",
      "_______________________________________________\n",
      "Confusion Matrix: \n",
      " [[14888    19]\n",
      " [  236  8735]]\n",
      "\n"
     ]
    }
   ],
   "source": [
    "print_score(log_reg, x_train, y_train, x_test, y_test, train=True)\n",
    "print_score(log_reg, x_train, y_train, x_test, y_test, train=False)"
   ]
  },
  {
   "cell_type": "code",
   "execution_count": null,
   "metadata": {},
   "outputs": [],
   "source": []
  }
 ],
 "metadata": {
  "kernelspec": {
   "display_name": "Python 3",
   "language": "python",
   "name": "python3"
  },
  "language_info": {
   "codemirror_mode": {
    "name": "ipython",
    "version": 3
   },
   "file_extension": ".py",
   "mimetype": "text/x-python",
   "name": "python",
   "nbconvert_exporter": "python",
   "pygments_lexer": "ipython3",
   "version": "3.7.1"
  }
 },
 "nbformat": 4,
 "nbformat_minor": 4
}
